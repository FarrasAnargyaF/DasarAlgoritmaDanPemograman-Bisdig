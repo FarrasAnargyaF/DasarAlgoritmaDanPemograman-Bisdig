{
  "nbformat": 4,
  "nbformat_minor": 0,
  "metadata": {
    "colab": {
      "provenance": []
    },
    "kernelspec": {
      "name": "python3",
      "display_name": "Python 3"
    },
    "language_info": {
      "name": "python"
    }
  },
  "cells": [
    {
      "cell_type": "code",
      "execution_count": 1,
      "metadata": {
        "colab": {
          "base_uri": "https://localhost:8080/"
        },
        "id": "QSgm1NlU9NRc",
        "outputId": "1a19e98c-93a6-422b-b66e-e6388cc23345"
      },
      "outputs": [
        {
          "output_type": "stream",
          "name": "stdout",
          "text": [
            "Masukkan harga barang pertama: 15000\n",
            "Masukkan harga barang kedua: 20000\n",
            "Masukkan harga barang ketiga: 25000\n",
            "Total harga pembelian adalah: Rp60000.00\n"
          ]
        }
      ],
      "source": [
        "# Program sederhana untuk menghitung total harga 3 barang\n",
        "\n",
        "# Input harga dari pengguna\n",
        "barang1 = float(input(\"Masukkan harga barang pertama: \"))\n",
        "barang2 = float(input(\"Masukkan harga barang kedua: \"))\n",
        "barang3 = float(input(\"Masukkan harga barang ketiga: \"))\n",
        "\n",
        "# Proses menghitung total\n",
        "total = barang1 + barang2 + barang3\n",
        "\n",
        "# Output hasil\n",
        "print(f\"Total harga pembelian adalah: Rp{total:.2f}\")"
      ]
    }
  ]
}