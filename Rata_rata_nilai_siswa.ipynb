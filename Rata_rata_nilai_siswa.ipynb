{
  "nbformat": 4,
  "nbformat_minor": 0,
  "metadata": {
    "colab": {
      "provenance": []
    },
    "kernelspec": {
      "name": "python3",
      "display_name": "Python 3"
    },
    "language_info": {
      "name": "python"
    }
  },
  "cells": [
    {
      "cell_type": "code",
      "execution_count": 1,
      "metadata": {
        "colab": {
          "base_uri": "https://localhost:8080/"
        },
        "id": "KpBuy94Tze9f",
        "outputId": "4f5c5dad-dc46-4385-e346-26ff62b5d36f"
      },
      "outputs": [
        {
          "output_type": "stream",
          "name": "stdout",
          "text": [
            "Masukkan nilai pertama: 80\n",
            "Masukkan nilai kedua: 75\n",
            "Masukkan nilai ketiga: 85\n",
            "Lulus\n"
          ]
        }
      ],
      "source": [
        "# Input nilai tiga mata pelajaran\n",
        "nilai1 = int(input(\"Masukkan nilai pertama: \"))\n",
        "nilai2 = int(input(\"Masukkan nilai kedua: \"))\n",
        "nilai3 = int(input(\"Masukkan nilai ketiga: \"))\n",
        "\n",
        "# Hitung rata-rata\n",
        "rata_rata = (nilai1 + nilai2 + nilai3) / 3\n",
        "\n",
        "# Cek kelulusan\n",
        "if rata_rata >= 75:\n",
        "    print(\"Lulus\")\n",
        "else:\n",
        "    print(\"Tidak Lulus\")"
      ]
    }
  ]
}