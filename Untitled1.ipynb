{
  "nbformat": 4,
  "nbformat_minor": 0,
  "metadata": {
    "colab": {
      "provenance": []
    },
    "kernelspec": {
      "name": "python3",
      "display_name": "Python 3"
    },
    "language_info": {
      "name": "python"
    }
  },
  "cells": [
    {
      "cell_type": "code",
      "execution_count": 1,
      "metadata": {
        "colab": {
          "base_uri": "https://localhost:8080/"
        },
        "id": "GONV97W-uccc",
        "outputId": "5b48fedc-8f6e-427f-9497-b4cd0c72d6fc"
      },
      "outputs": [
        {
          "output_type": "stream",
          "name": "stdout",
          "text": [
            "Masukkan total belanja: Rp500.000\n",
            "Tidak ada diskon. Total bayar: Rp500.00\n"
          ]
        }
      ],
      "source": [
        "# Meminta input total belanja dari pengguna\n",
        "total_belanja = float(input(\"Masukkan total belanja: Rp\"))\n",
        "\n",
        "# Mengecek apakah belanja lebih dari Rp500.000\n",
        "if total_belanja > 500000:\n",
        "    diskon = total_belanja * 0.10\n",
        "    total_bayar = total_belanja - diskon\n",
        "    print(f\"Anda mendapatkan diskon 10%! Total bayar: Rp{total_bayar:.2f}\")\n",
        "else:\n",
        "    total_bayar = total_belanja\n",
        "    print(f\"Tidak ada diskon. Total bayar: Rp{total_bayar:.2f}\")"
      ]
    }
  ]
}